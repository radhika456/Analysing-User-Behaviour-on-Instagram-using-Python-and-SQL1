{
  "nbformat": 4,
  "nbformat_minor": 0,
  "metadata": {
    "colab": {
      "provenance": []
    },
    "kernelspec": {
      "name": "python3",
      "display_name": "Python 3"
    },
    "language_info": {
      "name": "python"
    }
  },
  "cells": [
    {
      "cell_type": "code",
      "source": [
        "# Libraries for handling numeric computation and dataframes\n",
        "import pandas as pd\n",
        "import numpy as np\n",
        "\n",
        "# Libraries for statistical plotting\n",
        "import matplotlib.pyplot as plt\n",
        "import seaborn as sns\n",
        "%matplotlib inline\n",
        "\n",
        "# My personal data storaged in my Github repository\n",
        "comments = pd.read_csv('https://raw.githubusercontent.com/radhika456/Analysing-User-Behaviour-on-Instagram-using-Python-and-SQL1/master/Datasets/comments%20(1).csv')\n",
        "comments.drop([\"posted date\",\"emoji used\",\"Hashtags used count\"], axis=1, inplace=True)\n",
        "comments = comments.rename(columns={\n",
        "        'id': 'id',\n",
        "        'comment': 'comment_text',\n",
        "        'User id': 'user_id',\n",
        "        'Photo id': 'photo_id',\n",
        "        'created Timestamp': 'created_at',\n",
        "        'User  id': 'user_id'\n",
        "    })\n",
        "print(comments)\n"
      ],
      "metadata": {
        "id": "o7YQM93pUvhK",
        "colab": {
          "base_uri": "https://localhost:8080/"
        },
        "outputId": "0126a924-7384-4188-ea55-f025de000e8a"
      },
      "execution_count": 5,
      "outputs": [
        {
          "output_type": "stream",
          "name": "stdout",
          "text": [
            "        id            comment_text  user_id  photo_id        created_at\n",
            "0        1         unde at dolorem        2         1  13-04-2023 08:04\n",
            "1        2         quae ea ducimus        3         1  13-04-2023 08:04\n",
            "2        3      alias a voluptatum        5         1  13-04-2023 08:04\n",
            "3        4    facere suscipit sunt       14         1  13-04-2023 08:04\n",
            "4        5  totam eligendi quaerat       17         1  13-04-2023 08:04\n",
            "...    ...                     ...      ...       ...               ...\n",
            "7483  7484       accusamus vel est       82       257  13-04-2023 08:04\n",
            "7484  7485           sit nulla qui       91       257  13-04-2023 08:04\n",
            "7485  7486        sed quidem vitae       93       257  13-04-2023 08:04\n",
            "7486  7487   dolorem eveniet rerum       95       257  13-04-2023 08:04\n",
            "7487  7488  dolores nihil voluptas       96       257  13-04-2023 08:04\n",
            "\n",
            "[7488 rows x 5 columns]\n"
          ]
        }
      ]
    },
    {
      "cell_type": "code",
      "source": [
        "import pandas as pd\n",
        "import numpy as np\n",
        "\n",
        "# Libraries for statistical plotting\n",
        "import matplotlib.pyplot as plt\n",
        "import seaborn as sns\n",
        "%matplotlib inline\n",
        "\n",
        "# My personal data storaged in my Github repository\n",
        "follows = pd.read_csv('https://raw.githubusercontent.com/radhika456/Analysing-User-Behaviour-on-Instagram-using-Python-and-SQL1/master/Datasets/follows%20(1).csv')\n",
        "follows.drop([\"is follower active\",\"followee Acc status\"], axis=1, inplace=True)\n",
        "follows = follows.rename(columns={\n",
        "        'follower': 'follower_id',\n",
        "        'followee': 'followee_id',\n",
        "        'created time': 'created_at',\n",
        "        'followee ': 'followee_id',\n",
        "\n",
        "    })\n",
        "\n",
        "print(follows)"
      ],
      "metadata": {
        "colab": {
          "base_uri": "https://localhost:8080/"
        },
        "id": "us14Cx8PWoXS",
        "outputId": "f5390e26-bf41-4176-ac39-c144637613ee"
      },
      "execution_count": null,
      "outputs": [
        {
          "output_type": "stream",
          "name": "stdout",
          "text": [
            "      id             image_url  user_id      created_date\n",
            "0      1     http://elijah.biz        1  13-04-2023 08:04\n",
            "1      2    https://shanon.org        1  13-04-2023 08:04\n",
            "2      3      http://vicky.biz        1  13-04-2023 08:04\n",
            "3      4      http://oleta.net        1  13-04-2023 08:04\n",
            "4      5  https://jennings.biz        1  13-04-2023 08:04\n",
            "..   ...                   ...      ...               ...\n",
            "252  253   http://ryleigh.info       99  13-04-2023 08:04\n",
            "253  254   https://darien.name       99  13-04-2023 08:04\n",
            "254  255   https://xzavier.org       99  13-04-2023 08:04\n",
            "255  256    https://kaela.name      100  13-04-2023 08:04\n",
            "256  257   http://dedrick.info      100  13-04-2023 08:04\n",
            "\n",
            "[257 rows x 4 columns]\n"
          ]
        }
      ]
    },
    {
      "cell_type": "code",
      "source": [
        "import pandas as pd\n",
        "import numpy as np\n",
        "\n",
        "# Libraries for statistical plotting\n",
        "import matplotlib.pyplot as plt\n",
        "import seaborn as sns\n",
        "%matplotlib inline\n",
        "\n",
        "# My personal data storaged in my Github repository\n",
        "likes = pd.read_csv('https://raw.githubusercontent.com/radhika456/Analysing-User-Behaviour-on-Instagram-using-Python-and-SQL1/master/Datasets/likes%20(1).csv')\n",
        "likes.drop([\"following or not\",\"like type\"], axis=1, inplace=True)\n",
        "likes = likes.rename(columns={\n",
        "        'user ': 'user_id',\n",
        "        'photo': 'photo_id',\n",
        "        'created time': 'created_at',\n",
        "\n",
        "    })\n",
        "\n",
        "print(likes)"
      ],
      "metadata": {
        "colab": {
          "base_uri": "https://localhost:8080/"
        },
        "id": "3EMCfWljYRwJ",
        "outputId": "b529555d-df50-43db-dc6e-e1ca05ca1853"
      },
      "execution_count": null,
      "outputs": [
        {
          "output_type": "stream",
          "name": "stdout",
          "text": [
            "      user_id  photo_id        created_at\n",
            "0           2         1  13-04-2023 08:04\n",
            "1           2         4  13-04-2023 08:04\n",
            "2           2         8  13-04-2023 08:04\n",
            "3           2         9  13-04-2023 08:04\n",
            "4           2        10  13-04-2023 08:04\n",
            "...       ...       ...               ...\n",
            "8777      100       245  13-04-2023 08:04\n",
            "8778      100       246  13-04-2023 08:04\n",
            "8779      100       248  13-04-2023 08:04\n",
            "8780      100       249  13-04-2023 08:04\n",
            "8781      100       255  13-04-2023 08:04\n",
            "\n",
            "[8782 rows x 3 columns]\n"
          ]
        }
      ]
    },
    {
      "cell_type": "code",
      "source": [
        "import pandas as pd\n",
        "import numpy as np\n",
        "\n",
        "# Libraries for statistical plotting\n",
        "import matplotlib.pyplot as plt\n",
        "import seaborn as sns\n",
        "%matplotlib inline\n",
        "\n",
        "# My personal data storaged in my Github repository\n",
        "photo_tags = pd.read_csv('https://raw.githubusercontent.com/radhika456/Analysing-User-Behaviour-on-Instagram-using-Python-and-SQL1/master/Datasets/photo_tags.csv')\n",
        "photo_tags.drop([\"user id\"], axis=1)\n",
        "photo_tags = photo_tags.rename(columns={\n",
        "        'photo': 'photo_id',\n",
        "        'tag ID': 'tag_id',\n",
        "\n",
        "    })\n",
        "print(photo_tags)"
      ],
      "metadata": {
        "colab": {
          "base_uri": "https://localhost:8080/"
        },
        "id": "jP4Gn_LkY08M",
        "outputId": "a086073f-2e67-413d-bcbb-d9e11eee500e"
      },
      "execution_count": null,
      "outputs": [
        {
          "output_type": "stream",
          "name": "stdout",
          "text": [
            "     photo_id  tag_id  user id\n",
            "0           1      13        1\n",
            "1           1      17        1\n",
            "2           1      18        2\n",
            "3           1      19        2\n",
            "4           1      21        3\n",
            "..        ...     ...      ...\n",
            "496       254       4        6\n",
            "497       254      20        6\n",
            "498       257      13        6\n",
            "499       257      18        6\n",
            "500       257      19        6\n",
            "\n",
            "[501 rows x 3 columns]\n"
          ]
        }
      ]
    },
    {
      "cell_type": "code",
      "source": [
        "import pandas as pd\n",
        "import numpy as np\n",
        "\n",
        "# Libraries for statistical plotting\n",
        "import matplotlib.pyplot as plt\n",
        "import seaborn as sns\n",
        "%matplotlib inline\n",
        "\n",
        "# My personal data storaged in my Github repository\n",
        "photos = pd.read_csv('https://raw.githubusercontent.com/radhika456/Analysing-User-Behaviour-on-Instagram-using-Python-and-SQL1/master/Datasets/photos%20(1).csv')\n",
        "photos.drop([\"Insta filter used\",\"photo type\"], axis=1, inplace=True)\n",
        "photos = photos.rename(columns={\n",
        "        'id': 'id',\n",
        "        'image link': 'image_url',\n",
        "        'user ID': 'user_id',\n",
        "        'created dat' : 'created_date'\n",
        "\n",
        "    })\n",
        "print(photos)"
      ],
      "metadata": {
        "colab": {
          "base_uri": "https://localhost:8080/"
        },
        "id": "9xJwscpEZusk",
        "outputId": "8204e07b-361e-4e71-93a4-8c4557bb4ab2"
      },
      "execution_count": null,
      "outputs": [
        {
          "output_type": "stream",
          "name": "stdout",
          "text": [
            "      id             image_url  user_id      created_date\n",
            "0      1     http://elijah.biz        1  13-04-2023 08:04\n",
            "1      2    https://shanon.org        1  13-04-2023 08:04\n",
            "2      3      http://vicky.biz        1  13-04-2023 08:04\n",
            "3      4      http://oleta.net        1  13-04-2023 08:04\n",
            "4      5  https://jennings.biz        1  13-04-2023 08:04\n",
            "..   ...                   ...      ...               ...\n",
            "252  253   http://ryleigh.info       99  13-04-2023 08:04\n",
            "253  254   https://darien.name       99  13-04-2023 08:04\n",
            "254  255   https://xzavier.org       99  13-04-2023 08:04\n",
            "255  256    https://kaela.name      100  13-04-2023 08:04\n",
            "256  257   http://dedrick.info      100  13-04-2023 08:04\n",
            "\n",
            "[257 rows x 4 columns]\n"
          ]
        }
      ]
    },
    {
      "cell_type": "code",
      "source": [
        "import pandas as pd\n",
        "import numpy as np\n",
        "\n",
        "# Libraries for statistical plotting\n",
        "import matplotlib.pyplot as plt\n",
        "import seaborn as sns\n",
        "%matplotlib inline\n",
        "\n",
        "# My personal data storaged in my Github repository\n",
        "tags = pd.read_csv('https://raw.githubusercontent.com/radhika456/Analysing-User-Behaviour-on-Instagram-using-Python-and-SQL1/master/Datasets/tags%20(1).csv')\n",
        "tags.drop([\"location\"] , axis=1)\n",
        "tags = tags.rename(columns={\n",
        "        'id' : 'id',\n",
        "        'tag text' : 'tag_name',\n",
        "        'created time' : 'created_at'\n",
        "\n",
        "    })\n",
        "print(tags)"
      ],
      "metadata": {
        "colab": {
          "base_uri": "https://localhost:8080/"
        },
        "id": "qnMgPZLSaOzp",
        "outputId": "0c0db120-41db-4616-ea25-c88bae248de0"
      },
      "execution_count": null,
      "outputs": [
        {
          "output_type": "stream",
          "name": "stdout",
          "text": [
            "    id     tag_name        created_at       location\n",
            "0    1       sunset  13-04-2023 08:04        florida\n",
            "1    2  photography  13-04-2023 08:04  washington DC\n",
            "2    3      sunrise  13-04-2023 08:04       new york\n",
            "3    4    landscape  13-04-2023 08:04         london\n",
            "4    5         food  13-04-2023 08:04         brazil\n",
            "5    6       foodie  13-04-2023 08:04          japan\n",
            "6    7    delicious  13-04-2023 08:04         Mumbai\n",
            "7    8       beauty  13-04-2023 08:04      bangalore\n",
            "8    9     stunning  13-04-2023 08:04        florida\n",
            "9   10       dreamy  13-04-2023 08:04  washington DC\n",
            "10  11          lol  13-04-2023 08:04       new york\n",
            "11  12        happy  13-04-2023 08:04         london\n",
            "12  13          fun  13-04-2023 08:04         brazil\n",
            "13  14        style  13-04-2023 08:04          japan\n",
            "14  15         hair  13-04-2023 08:04         Mumbai\n",
            "15  16      fashion  13-04-2023 08:04      bangalore\n",
            "16  17        party  13-04-2023 08:04        florida\n",
            "17  18      concert  13-04-2023 08:04  washington DC\n",
            "18  19        drunk  13-04-2023 08:04       new york\n",
            "19  20        beach  13-04-2023 08:04         london\n",
            "20  21        smile  13-04-2023 08:04      australia\n"
          ]
        }
      ]
    },
    {
      "cell_type": "code",
      "source": [
        "import pandas as pd\n",
        "import numpy as np\n",
        "\n",
        "# Libraries for statistical plotting\n",
        "import matplotlib.pyplot as plt\n",
        "import seaborn as sns\n",
        "%matplotlib inline\n",
        "\n",
        "# My personal data storaged in my Github repository\n",
        "users = pd.read_csv('https://raw.githubusercontent.com/radhika456/Analysing-User-Behaviour-on-Instagram-using-Python-and-SQL1/master/Datasets/users%20(1).csv')\n",
        "users.drop([\"private/public\",\"post count\",\"Verified status\"], axis=1, inplace = True)\n",
        "users = users.rename(columns={\n",
        "        \"id\" : \"id\",\n",
        "        \"name\" : \"username\",\n",
        "        \"created time\" : \"created_at\"\n",
        "    })\n",
        "\n",
        "print(users)"
      ],
      "metadata": {
        "colab": {
          "base_uri": "https://localhost:8080/"
        },
        "id": "sDekuubAbhEO",
        "outputId": "92fbabac-0ef2-41ab-ae3e-0aa5ec414e34"
      },
      "execution_count": null,
      "outputs": [
        {
          "output_type": "stream",
          "name": "stdout",
          "text": [
            "     id              username        created_at\n",
            "0     1         Kenton_Kirlin  16-02-2017 18:22\n",
            "1     2         Andre_Purdy85  02-04-2017 17:11\n",
            "2     3         Harley_Lind18  21-02-2017 11:12\n",
            "3     4         Arely_Bogan63  13-08-2016 01:28\n",
            "4     5         Aniya_Hackett  07-12-2016 01:04\n",
            "..  ...                   ...               ...\n",
            "95   96  Keenan.Schamberger60  28-08-2016 14:57\n",
            "96   97        Tomas.Beatty93  11-02-2017 11:38\n",
            "97   98       Imani_Nicolas17  31-01-2017 22:59\n",
            "98   99          Alek_Watsica  10-12-2016 07:43\n",
            "99  100             Javonte83  27-03-2017 22:06\n",
            "\n",
            "[100 rows x 3 columns]\n"
          ]
        }
      ]
    }
  ]
}